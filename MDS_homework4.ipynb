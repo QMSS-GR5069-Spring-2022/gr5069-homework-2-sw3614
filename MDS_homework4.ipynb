{
  "cells": [
    {
      "cell_type": "markdown",
      "id": "6b0b7a9b",
      "metadata": {
        "id": "6b0b7a9b"
      },
      "source": [
        "## 1. Recipe class"
      ]
    },
    {
      "cell_type": "markdown",
      "id": "20df2541",
      "metadata": {
        "id": "20df2541"
      },
      "source": [
        "### (a). Create *Recipe* class\n",
        "Create a class called Recipe. Initialize it with a\n",
        "\n",
        "name: the name of the recipe\n",
        "\n",
        "ingredients: a dictionary of ingredients contained in the recipe and their amounts (in grams)\n",
        "\n",
        "meal: a string that indicates when this would be good to be eaten, e.g. lunch, snack etc.\n",
        "\n",
        "time: the time it takes to prepare the recipe."
      ]
    },
    {
      "cell_type": "code",
      "execution_count": 1,
      "id": "116f608c",
      "metadata": {
        "id": "116f608c"
      },
      "outputs": [],
      "source": [
        "class Recipe():\n",
        "    def __init__(self, name = \"\", meal = \"\", ingredients = [], time = 10.00):\n",
        "        self.name = name\n",
        "        self.ingredients = ingredients\n",
        "        self.meal = meal\n",
        "        self.time = time"
      ]
    },
    {
      "cell_type": "markdown",
      "id": "5d3f867b",
      "metadata": {
        "id": "5d3f867b"
      },
      "source": [
        "### (b). Add methods and recipes\n",
        "Add a method to Recipe that prints the name of the recipe, the time it takes to prepare, and the type of meal.\n",
        "\n",
        "Initialize five recipes of your choice, two for dinner and three for dessert (these can be simple and don't need to be real recipes). Print the initialized objects."
      ]
    },
    {
      "cell_type": "code",
      "execution_count": 2,
      "id": "c3b850b7",
      "metadata": {
        "id": "c3b850b7"
      },
      "outputs": [],
      "source": [
        "class Recipe():\n",
        "    def __init__(self,name, meal, ingredients, time):\n",
        "        self.name = name\n",
        "        self.ingredients = ingredients\n",
        "        self.meal = meal\n",
        "        self.time = time       \n",
        "    def __str__(self):\n",
        "        return \"The name of the recipe is \" + str(self.name) + \", the time it takes to prepare is \" + str(self.time) + \", the type of meal is \" + str(self.meal) + \".\""
      ]
    },
    {
      "cell_type": "code",
      "execution_count": 3,
      "id": "853ce2d5",
      "metadata": {
        "id": "853ce2d5"
      },
      "outputs": [],
      "source": [
        "R1 = Recipe('broccoli beef','dinner',{'broccoli': 5, 'beef': 20},'30 mins')\n",
        "R2 = Recipe('sesame chicken','dinner',{'sesame': 5, 'chicken': 20},'30 mins')\n",
        "R3 = Recipe('cake','dessert',{'egg': 5, 'flour': 20},'20 mins')\n",
        "R4 = Recipe('icecream','dessert',{'butter': 10, 'fruit': 10},'10 mins')\n",
        "R5 = Recipe('chips','dessert',{'oil': 20, 'potatoes': 10}, '10 mins')"
      ]
    },
    {
      "cell_type": "code",
      "execution_count": 4,
      "id": "78ef7510",
      "metadata": {
        "colab": {
          "base_uri": "https://localhost:8080/"
        },
        "id": "78ef7510",
        "outputId": "47500e3e-e09e-45df-bc97-36a4d2bb213a"
      },
      "outputs": [
        {
          "output_type": "stream",
          "name": "stdout",
          "text": [
            "The name of the recipe is broccoli beef, the time it takes to prepare is 30 mins, the type of meal is dinner.\n",
            "The name of the recipe is sesame chicken, the time it takes to prepare is 30 mins, the type of meal is dinner.\n",
            "The name of the recipe is cake, the time it takes to prepare is 20 mins, the type of meal is dessert.\n",
            "The name of the recipe is icecream, the time it takes to prepare is 10 mins, the type of meal is dessert.\n",
            "The name of the recipe is chips, the time it takes to prepare is 10 mins, the type of meal is dessert.\n"
          ]
        }
      ],
      "source": [
        "print(R1)\n",
        "print(R2)\n",
        "print(R3)\n",
        "print(R4)\n",
        "print(R5)"
      ]
    },
    {
      "cell_type": "markdown",
      "id": "bb600709",
      "metadata": {
        "id": "bb600709"
      },
      "source": [
        "### (c). Total weight\n",
        "Add a method that provides the total weight of all ingredients combined. Call that method for one specific recipe."
      ]
    },
    {
      "cell_type": "code",
      "execution_count": 5,
      "id": "26ccb64f",
      "metadata": {
        "id": "26ccb64f"
      },
      "outputs": [],
      "source": [
        "class Recipe():\n",
        "    def __init__(self,name, meal, ingredients, time):\n",
        "        self.name = name\n",
        "        self.ingredients = ingredients\n",
        "        self.meal = meal\n",
        "        self.time = time       \n",
        "    def __str__(self):\n",
        "        return \"The name of the recipe is \" + str(self.name) + \", the time it takes to prepare is \" + str(self.time) + \", the type of meal is \" + str(self.meal) + \".\"\n",
        "    def totalweight(self):\n",
        "        for i in self.ingredients:\n",
        "            return sum(self.ingredients.values())\n"
      ]
    },
    {
      "cell_type": "code",
      "execution_count": 6,
      "id": "cb1b58c3",
      "metadata": {
        "colab": {
          "base_uri": "https://localhost:8080/"
        },
        "id": "cb1b58c3",
        "outputId": "db64858e-cfe9-4931-cf54-f76d29c7540e"
      },
      "outputs": [
        {
          "output_type": "stream",
          "name": "stdout",
          "text": [
            "Total weight of Ingredients for Chips is: 30\n"
          ]
        }
      ],
      "source": [
        "Chips = Recipe(\"chips\",'dessert',{'oil': 20, 'potatoes': 10}, '10 mins')\n",
        "print(\"Total weight of Ingredients for Chips is: {}\".format(Chips.totalweight()))"
      ]
    },
    {
      "cell_type": "markdown",
      "id": "990937f2",
      "metadata": {
        "id": "990937f2"
      },
      "source": [
        "## 2. Organizing recipes in a Cookbook"
      ]
    },
    {
      "cell_type": "markdown",
      "id": "e4860b18",
      "metadata": {
        "id": "e4860b18"
      },
      "source": [
        "### (a). Create Cookbook class\n",
        "\n",
        "Now create a Cookbook class that will contain a list of Recipe objects."
      ]
    },
    {
      "cell_type": "code",
      "execution_count": 7,
      "id": "29791edc",
      "metadata": {
        "id": "29791edc"
      },
      "outputs": [],
      "source": [
        "class Cookbook:\n",
        "    def __init__(self):\n",
        "        self.Recipe_list = []"
      ]
    },
    {
      "cell_type": "markdown",
      "id": "ccdbed53",
      "metadata": {
        "id": "ccdbed53"
      },
      "source": [
        "### (b). Meal type method\n",
        "Create a get_meal_type() method which has a meal_type parameter and returns a list of all recipes fitting the specified meal type."
      ]
    },
    {
      "cell_type": "code",
      "execution_count": 8,
      "id": "c300b23f",
      "metadata": {
        "id": "c300b23f"
      },
      "outputs": [],
      "source": [
        "class Cookbook:\n",
        "    def __init__(self):\n",
        "        self.Recipe_list = []\n",
        "    \n",
        "    def add(self,Recipe):\n",
        "        self.Recipe_list.append(Recipe)\n",
        "    \n",
        "    def get_meal_type(self, meal_type = \"\"):\n",
        "        self.meal_type = meal_type\n",
        "        return [Recipe.name for Recipe in self.Recipe_list if self.meal_type == Recipe.meal]\n",
        "        "
      ]
    },
    {
      "cell_type": "markdown",
      "id": "4623186e",
      "metadata": {
        "id": "4623186e"
      },
      "source": [
        "### (c). Make a cookbook\n",
        "Add the five recipes from above to the Cookbook. Using the method fom (b) print the names of all dessert recipes."
      ]
    },
    {
      "cell_type": "code",
      "execution_count": 9,
      "id": "c768ccf0",
      "metadata": {
        "id": "c768ccf0"
      },
      "outputs": [],
      "source": [
        "Recipe_list = Cookbook()"
      ]
    },
    {
      "cell_type": "code",
      "execution_count": 10,
      "id": "1caec385",
      "metadata": {
        "id": "1caec385"
      },
      "outputs": [],
      "source": [
        "Recipe_list.add(R1)\n",
        "Recipe_list.add(R2)\n",
        "Recipe_list.add(R3)\n",
        "Recipe_list.add(R4)\n",
        "Recipe_list.add(R5)"
      ]
    },
    {
      "cell_type": "code",
      "execution_count": 11,
      "id": "f33455cf",
      "metadata": {
        "colab": {
          "base_uri": "https://localhost:8080/"
        },
        "id": "f33455cf",
        "outputId": "e075a4d7-4a8d-40ab-b65f-c26522bd49c6"
      },
      "outputs": [
        {
          "output_type": "execute_result",
          "data": {
            "text/plain": [
              "['cake', 'icecream', 'chips']"
            ]
          },
          "metadata": {},
          "execution_count": 11
        }
      ],
      "source": [
        "Recipe_list.get_meal_type('dessert')"
      ]
    },
    {
      "cell_type": "markdown",
      "id": "aff982b6",
      "metadata": {
        "id": "aff982b6"
      },
      "source": [
        "### (d). Ingredient at home\n",
        "Add a method that takes in a list (or set) of available_ingredients and a boolean match_all. The boolean indicates whether all available ingredients (match_all = True) or any ingredient (match_all = False) need to be contained in the result list. Call the method twice to show how the boolean match_all affects your results."
      ]
    },
    {
      "cell_type": "code",
      "execution_count": 12,
      "id": "53edd452",
      "metadata": {
        "id": "53edd452"
      },
      "outputs": [],
      "source": [
        "class Cookbook:\n",
        "    def __init__(self):\n",
        "        self.Recipe_list = []\n",
        "    \n",
        "    def add(self,Recipe):\n",
        "        self.Recipe_list.append(Recipe)\n",
        "    \n",
        "    def get_meal_type(self, meal_type = \"\"):\n",
        "        self.meal_type = meal_type\n",
        "        return [Recipe.name for Recipe in self.Recipe_list if self.meal_type == Recipe.meal]\n",
        "\n",
        "    def method(self,available_ingredients,match_all):\n",
        "        meals = []\n",
        "        self.available_ingredients = available_ingredients\n",
        "        for Recipe in self.Recipe_list:\n",
        "            if match_all == True:\n",
        "                if all(i in self.available_ingredients for i in list(Recipe.ingredients.keys())):\n",
        "                    meals.append(Recipe.name)\n",
        "                    return meals\n",
        "            \n",
        "            if match_all == False:\n",
        "                if all(i in self.available_ingredients for i in list(Recipe.ingredients.keys())):\n",
        "                    meals.append(Recipe.name)\n",
        "                    return meals\n",
        "        return meals\n",
        "\n",
        "                \n",
        "                \n",
        "                \n",
        "        "
      ]
    },
    {
      "cell_type": "code",
      "execution_count": 13,
      "id": "20089c82",
      "metadata": {
        "id": "20089c82"
      },
      "outputs": [],
      "source": [
        "i = Cookbook()\n",
        "i.add(R1)\n",
        "i.add(R2)\n",
        "i.add(R3)\n",
        "i.add(R4)\n",
        "i.add(R5)"
      ]
    },
    {
      "cell_type": "code",
      "execution_count": 14,
      "id": "cbaaa495",
      "metadata": {
        "colab": {
          "base_uri": "https://localhost:8080/"
        },
        "id": "cbaaa495",
        "outputId": "b7e777a1-f63f-4182-cf89-3329c1787262"
      },
      "outputs": [
        {
          "output_type": "execute_result",
          "data": {
            "text/plain": [
              "['cake']"
            ]
          },
          "metadata": {},
          "execution_count": 14
        }
      ],
      "source": [
        "i.method([\"egg\",\"flour\"],True)"
      ]
    },
    {
      "cell_type": "code",
      "source": [
        "i.method(['oil','potatoes'],False)"
      ],
      "metadata": {
        "colab": {
          "base_uri": "https://localhost:8080/"
        },
        "id": "ejh8uPZoDdK5",
        "outputId": "94de6346-90bb-4280-9e3a-f5bc69bb816a"
      },
      "id": "ejh8uPZoDdK5",
      "execution_count": 15,
      "outputs": [
        {
          "output_type": "execute_result",
          "data": {
            "text/plain": [
              "['chips']"
            ]
          },
          "metadata": {},
          "execution_count": 15
        }
      ]
    }
  ],
  "metadata": {
    "kernelspec": {
      "display_name": "Python 3",
      "language": "python",
      "name": "python3"
    },
    "language_info": {
      "codemirror_mode": {
        "name": "ipython",
        "version": 3
      },
      "file_extension": ".py",
      "mimetype": "text/x-python",
      "name": "python",
      "nbconvert_exporter": "python",
      "pygments_lexer": "ipython3",
      "version": "3.8.8"
    },
    "colab": {
      "name": "MDS homework4.ipynb",
      "provenance": []
    }
  },
  "nbformat": 4,
  "nbformat_minor": 5
}